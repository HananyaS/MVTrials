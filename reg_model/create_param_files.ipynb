{
 "cells": [
  {
   "cell_type": "code",
   "execution_count": 16,
   "metadata": {
    "collapsed": true,
    "ExecuteTime": {
     "end_time": "2023-07-04T21:12:18.536472728Z",
     "start_time": "2023-07-04T21:12:18.490627680Z"
    }
   },
   "outputs": [],
   "source": [
    "import os\n",
    "import json\n",
    "import pandas as pd"
   ]
  },
  {
   "cell_type": "code",
   "execution_count": 7,
   "outputs": [
    {
     "data": {
      "text/plain": "{'accent': 'accent_grid_val.csv',\n 'wifi': 'wifi_grid_val.csv',\n 'parkinson': 'parkinson_grid_val.csv'}"
     },
     "execution_count": 7,
     "metadata": {},
     "output_type": "execute_result"
    }
   ],
   "source": [
    "dataset_grid_res = {x.split('_')[0]: x for x in os.listdir('grid_search_results') if x.endswith('.csv')}\n",
    "dataset_grid_res"
   ],
   "metadata": {
    "collapsed": false,
    "ExecuteTime": {
     "end_time": "2023-07-04T21:02:02.088916487Z",
     "start_time": "2023-07-04T21:02:02.044918267Z"
    }
   }
  },
  {
   "cell_type": "code",
   "execution_count": 14,
   "outputs": [],
   "source": [
    "os.makedirs(\"param_files\", exist_ok=True)"
   ],
   "metadata": {
    "collapsed": false,
    "ExecuteTime": {
     "end_time": "2023-07-04T21:10:57.168538637Z",
     "start_time": "2023-07-04T21:10:57.122389605Z"
    }
   }
  },
  {
   "cell_type": "code",
   "execution_count": 24,
   "outputs": [],
   "source": [
    "for dataset, grid_res in dataset_grid_res.items():\n",
    "    df = pd.read_csv(os.path.join('grid_search_results', grid_res))\n",
    "    df[\"partial_scores_mean\"] = df[\"partial_score\"].apply(lambda x: float(x.split(\" +- \")[0]))\n",
    "    df[\"diff_full_partial\"] = df[\"full_score\"] - df[\"partial_scores_mean\"]\n",
    "    df.sort_values(by=\"diff_full_partial\", ascending=True, inplace=True, kind='stable')\n",
    "    df.sort_values(by=\"partial_scores_mean\", ascending=False, inplace=True, kind='stable')\n",
    "    df.to_csv(os.path.join(\"param_files\", f\"{dataset}_params.csv\"), index=False)\n",
    "\n",
    "    # create params dict of reg_type\tweight_type\talpha\tuse_layer_norm\tuse_aug\tlr\tbatch_size\n",
    "\n",
    "    params = {\n",
    "        \"reg_type\": str(df.iloc[0][\"reg_type\"]),\n",
    "        \"weight_type\": str(df.iloc[0][\"weight_type\"]),\n",
    "        \"alpha\": float(df.iloc[0][\"alpha\"]),\n",
    "        \"use_layer_norm\": bool(df.iloc[0][\"use_layer_norm\"]),\n",
    "        \"use_aug\": bool(df.iloc[0][\"use_aug\"]),\n",
    "        \"lr\": float(df.iloc[0][\"lr\"]),\n",
    "        \"batch_size\": int(df.iloc[0][\"batch_size\"]),\n",
    "    }\n",
    "\n",
    "    with open(os.path.join(\"param_files\", f\"{dataset}_params.json\"), 'w') as f:\n",
    "        json.dump(params, f)\n"
   ],
   "metadata": {
    "collapsed": false,
    "ExecuteTime": {
     "end_time": "2023-07-04T21:24:08.324694981Z",
     "start_time": "2023-07-04T21:24:08.270615347Z"
    }
   }
  },
  {
   "cell_type": "code",
   "execution_count": null,
   "outputs": [],
   "source": [],
   "metadata": {
    "collapsed": false
   }
  }
 ],
 "metadata": {
  "kernelspec": {
   "display_name": "Python 3",
   "language": "python",
   "name": "python3"
  },
  "language_info": {
   "codemirror_mode": {
    "name": "ipython",
    "version": 2
   },
   "file_extension": ".py",
   "mimetype": "text/x-python",
   "name": "python",
   "nbconvert_exporter": "python",
   "pygments_lexer": "ipython2",
   "version": "2.7.6"
  }
 },
 "nbformat": 4,
 "nbformat_minor": 0
}
