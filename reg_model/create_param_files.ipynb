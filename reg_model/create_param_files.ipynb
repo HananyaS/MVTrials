{
 "cells": [
  {
   "cell_type": "code",
   "execution_count": 9,
   "metadata": {
    "collapsed": true,
    "ExecuteTime": {
     "end_time": "2023-07-05T13:17:17.972409227Z",
     "start_time": "2023-07-05T13:17:17.966584683Z"
    }
   },
   "outputs": [],
   "source": [
    "import os\n",
    "import json\n",
    "import pandas as pd"
   ]
  },
  {
   "cell_type": "code",
   "execution_count": 2,
   "outputs": [
    {
     "data": {
      "text/plain": "{'accent': 'accent_grid_val.csv',\n 'ecoli': 'ecoli_grid_val.csv',\n 'wifi': 'wifi_grid_val.csv',\n 'banknote': 'banknote_grid_val.csv',\n 'iris': 'iris_grid_val.csv',\n 'parkinson': 'parkinson_grid_val.csv',\n 'wine': 'wine_grid_val.csv'}"
     },
     "execution_count": 2,
     "metadata": {},
     "output_type": "execute_result"
    }
   ],
   "source": [
    "dataset_grid_res = {x.split('_')[0]: x for x in os.listdir('grid_search_results') if\n",
    "                    x.endswith('.csv') and 'process' not in x}\n",
    "dataset_grid_res"
   ],
   "metadata": {
    "collapsed": false,
    "ExecuteTime": {
     "end_time": "2023-07-05T11:32:06.977764239Z",
     "start_time": "2023-07-05T11:32:06.975934440Z"
    }
   }
  },
  {
   "cell_type": "code",
   "execution_count": 3,
   "outputs": [],
   "source": [
    "os.makedirs(\"param_files\", exist_ok=True)"
   ],
   "metadata": {
    "collapsed": false,
    "ExecuteTime": {
     "end_time": "2023-07-05T11:32:06.978056028Z",
     "start_time": "2023-07-05T11:32:06.976591868Z"
    }
   }
  },
  {
   "cell_type": "code",
   "execution_count": 8,
   "outputs": [],
   "source": [
    "for dataset, grid_res in dataset_grid_res.items():\n",
    "    df = pd.read_csv(os.path.join('grid_search_results', grid_res))\n",
    "    df[\"partial_scores_mean\"] = df[\"partial_score\"].apply(lambda x: float(x.split(\" +- \")[0]))\n",
    "    df[\"diff_full_partial\"] = df[\"full_score\"] - df[\"partial_scores_mean\"]\n",
    "    df.sort_values(by=\"diff_full_partial\", ascending=True, inplace=True, kind='stable')\n",
    "    df.sort_values(by=\"partial_scores_mean\", ascending=False, inplace=True, kind='stable')\n",
    "    df.to_csv(os.path.join(\"param_files\", f\"{dataset}_params.csv\"), index=False)\n",
    "\n",
    "\n",
    "    # create params dict of reg_type\tweight_type\talpha\tuse_layer_norm\tuse_aug\tlr\tbatch_size\n",
    "\n",
    "    params = {\n",
    "        \"reg_type\": str(df.iloc[0][\"reg_type\"]),\n",
    "        \"weight_type\": str(df.iloc[0][\"weight_type\"]),\n",
    "        \"alpha\": float(df.iloc[0][\"alpha\"]),\n",
    "        \"use_layer_norm\": bool(df.iloc[0][\"use_layer_norm\"]),\n",
    "        \"use_aug\": bool(df.iloc[0][\"use_aug\"]),\n",
    "        \"lr\": float(df.iloc[0][\"lr\"]),\n",
    "        \"batch_size\": int(df.iloc[0][\"batch_size\"]),\n",
    "    }\n",
    "\n",
    "    with open(os.path.join(\"param_files\", f\"{dataset}_params.json\"), 'w') as f:\n",
    "        json.dump(params, f)\n"
   ],
   "metadata": {
    "collapsed": false,
    "ExecuteTime": {
     "end_time": "2023-07-05T11:35:59.227320449Z",
     "start_time": "2023-07-05T11:35:59.119189470Z"
    }
   }
  },
  {
   "cell_type": "code",
   "execution_count": 5,
   "outputs": [],
   "source": [
    "for i, dataset in enumerate(os.listdir(\"param_files\")):\n",
    "    if dataset.endswith(\".json\"):\n",
    "        f = open(\"removal_test_commands\", 'w' if i == 0 else 'a')\n",
    "        dataset = dataset.split(\"_\")[0]\n",
    "        f.write(f\"python main_experimens.py --dataset {dataset.capitalize()} --run_grid False --run_ts False\\n\")"
   ],
   "metadata": {
    "collapsed": false,
    "ExecuteTime": {
     "end_time": "2023-07-05T11:32:07.043643656Z",
     "start_time": "2023-07-05T11:32:07.015261789Z"
    }
   }
  },
  {
   "cell_type": "code",
   "execution_count": 7,
   "outputs": [
    {
     "data": {
      "text/plain": "          reg_type weight_type  alpha  use_layer_norm  use_aug     lr  \\\necoli           l2        mult    1.0            True     True  0.010   \nbanknote       max        loss    0.0            True     True  0.100   \niris            l1        None    0.0           False     True  0.100   \nparkinson       l1        None    1.0           False     True  0.001   \naccent          l2        None    0.5           False     True  0.100   \n\n           batch_size  \necoli              32  \nbanknote           64  \niris               64  \nparkinson          64  \naccent             32  ",
      "text/html": "<div>\n<style scoped>\n    .dataframe tbody tr th:only-of-type {\n        vertical-align: middle;\n    }\n\n    .dataframe tbody tr th {\n        vertical-align: top;\n    }\n\n    .dataframe thead th {\n        text-align: right;\n    }\n</style>\n<table border=\"1\" class=\"dataframe\">\n  <thead>\n    <tr style=\"text-align: right;\">\n      <th></th>\n      <th>reg_type</th>\n      <th>weight_type</th>\n      <th>alpha</th>\n      <th>use_layer_norm</th>\n      <th>use_aug</th>\n      <th>lr</th>\n      <th>batch_size</th>\n    </tr>\n  </thead>\n  <tbody>\n    <tr>\n      <th>ecoli</th>\n      <td>l2</td>\n      <td>mult</td>\n      <td>1.0</td>\n      <td>True</td>\n      <td>True</td>\n      <td>0.010</td>\n      <td>32</td>\n    </tr>\n    <tr>\n      <th>banknote</th>\n      <td>max</td>\n      <td>loss</td>\n      <td>0.0</td>\n      <td>True</td>\n      <td>True</td>\n      <td>0.100</td>\n      <td>64</td>\n    </tr>\n    <tr>\n      <th>iris</th>\n      <td>l1</td>\n      <td>None</td>\n      <td>0.0</td>\n      <td>False</td>\n      <td>True</td>\n      <td>0.100</td>\n      <td>64</td>\n    </tr>\n    <tr>\n      <th>parkinson</th>\n      <td>l1</td>\n      <td>None</td>\n      <td>1.0</td>\n      <td>False</td>\n      <td>True</td>\n      <td>0.001</td>\n      <td>64</td>\n    </tr>\n    <tr>\n      <th>accent</th>\n      <td>l2</td>\n      <td>None</td>\n      <td>0.5</td>\n      <td>False</td>\n      <td>True</td>\n      <td>0.100</td>\n      <td>32</td>\n    </tr>\n  </tbody>\n</table>\n</div>"
     },
     "execution_count": 7,
     "metadata": {},
     "output_type": "execute_result"
    }
   ],
   "source": [
    "# load all params files to one df\n",
    "\n",
    "df = pd.DataFrame()\n",
    "\n",
    "for dataset in os.listdir(\"param_files\"):\n",
    "    if dataset.endswith(\".json\"):\n",
    "        dataset = dataset.split(\"_\")[0]\n",
    "\n",
    "        if dataset.lower() in ['wifi', 'wine']:\n",
    "            continue\n",
    "\n",
    "        with open(os.path.join(\"param_files\", dataset + \"_params.json\"), 'r') as f:\n",
    "            params = json.load(f)\n",
    "        df = df.append(pd.DataFrame(params, index=[dataset]))\n",
    "\n",
    "df"
   ],
   "metadata": {
    "collapsed": false,
    "ExecuteTime": {
     "end_time": "2023-07-05T11:34:53.101208883Z",
     "start_time": "2023-07-05T11:34:53.061255039Z"
    }
   }
  }
 ],
 "metadata": {
  "kernelspec": {
   "display_name": "Python 3",
   "language": "python",
   "name": "python3"
  },
  "language_info": {
   "codemirror_mode": {
    "name": "ipython",
    "version": 2
   },
   "file_extension": ".py",
   "mimetype": "text/x-python",
   "name": "python",
   "nbconvert_exporter": "python",
   "pygments_lexer": "ipython2",
   "version": "2.7.6"
  }
 },
 "nbformat": 4,
 "nbformat_minor": 0
}
