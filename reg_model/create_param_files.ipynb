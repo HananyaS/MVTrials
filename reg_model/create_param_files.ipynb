{
 "cells": [
  {
   "cell_type": "code",
   "execution_count": 2,
   "metadata": {
    "collapsed": true,
    "ExecuteTime": {
     "end_time": "2023-07-19T11:08:08.411188182Z",
     "start_time": "2023-07-19T11:08:08.241348841Z"
    }
   },
   "outputs": [],
   "source": [
    "import os\n",
    "import json\n",
    "import pandas as pd"
   ]
  },
  {
   "cell_type": "code",
   "execution_count": 3,
   "outputs": [
    {
     "data": {
      "text/plain": "'/home/shachar/Desktop/PythonProjects/Lab/MVTrials/reg_model'"
     },
     "execution_count": 3,
     "metadata": {},
     "output_type": "execute_result"
    }
   ],
   "source": [
    "os.getcwd()"
   ],
   "metadata": {
    "collapsed": false,
    "ExecuteTime": {
     "end_time": "2023-07-19T11:08:08.572503663Z",
     "start_time": "2023-07-19T11:08:08.569181972Z"
    }
   }
  },
  {
   "cell_type": "code",
   "execution_count": 82,
   "outputs": [],
   "source": [
    "grid_res_dir = 'grid_search_results_to_plot'"
   ],
   "metadata": {
    "collapsed": false,
    "ExecuteTime": {
     "end_time": "2023-07-09T11:20:53.595044295Z",
     "start_time": "2023-07-09T11:20:53.547461657Z"
    }
   }
  },
  {
   "cell_type": "code",
   "execution_count": 83,
   "outputs": [
    {
     "data": {
      "text/plain": "{'accent': 'accent_grid_val.csv',\n 'ecoli': 'ecoli_grid_val.csv',\n 'wifi': 'wifi_grid_val.csv',\n 'banknote': 'banknote_grid_val.csv',\n 'iris': 'iris_grid_val.csv',\n 'parkinson': 'parkinson_grid_val.csv',\n 'breast': 'breast_grid_val.csv',\n 'wine': 'wine_grid_val.csv'}"
     },
     "execution_count": 83,
     "metadata": {},
     "output_type": "execute_result"
    }
   ],
   "source": [
    "dataset_grid_res = {x.split('_')[0]: x for x in os.listdir(grid_res_dir) if\n",
    "                    x.endswith('.csv') and 'process' not in x}\n",
    "dataset_grid_res"
   ],
   "metadata": {
    "collapsed": false,
    "ExecuteTime": {
     "end_time": "2023-07-09T11:20:55.143265194Z",
     "start_time": "2023-07-09T11:20:55.137865716Z"
    }
   }
  },
  {
   "cell_type": "code",
   "execution_count": 84,
   "outputs": [],
   "source": [
    "os.makedirs(\"param_files\", exist_ok=True)"
   ],
   "metadata": {
    "collapsed": false,
    "ExecuteTime": {
     "end_time": "2023-07-09T11:20:55.462199959Z",
     "start_time": "2023-07-09T11:20:55.451464082Z"
    }
   }
  },
  {
   "cell_type": "code",
   "execution_count": 85,
   "outputs": [
    {
     "data": {
      "text/plain": "  dataset  conf_num reg_type weight_type  alpha  use_layer_norm  use_aug  \\\n0  Accent         1       l1        None    0.0            True     True   \n1  Accent         2       l1        None    0.0            True     True   \n2  Accent         3       l1        None    0.0            True     True   \n3  Accent         4       l1        None    0.0            True     True   \n4  Accent         5       l1        None    0.0            True     True   \n\n      lr  batch_size  train_full_score train_partial_score  val_full_score  \\\n0  0.001          32          0.760806      0.726 +- 0.025        0.792453   \n1  0.001          64          0.783883       0.74 +- 0.031        0.735849   \n2  0.010          32          0.817582       0.763 +- 0.03        0.792453   \n3  0.010          64          0.839194      0.783 +- 0.026        0.886792   \n4  0.100          32          0.717216       0.681 +- 0.02        0.773585   \n\n  val_partial_score  \n0    0.756 +- 0.026  \n1    0.725 +- 0.038  \n2    0.756 +- 0.043  \n3    0.818 +- 0.051  \n4    0.753 +- 0.018  ",
      "text/html": "<div>\n<style scoped>\n    .dataframe tbody tr th:only-of-type {\n        vertical-align: middle;\n    }\n\n    .dataframe tbody tr th {\n        vertical-align: top;\n    }\n\n    .dataframe thead th {\n        text-align: right;\n    }\n</style>\n<table border=\"1\" class=\"dataframe\">\n  <thead>\n    <tr style=\"text-align: right;\">\n      <th></th>\n      <th>dataset</th>\n      <th>conf_num</th>\n      <th>reg_type</th>\n      <th>weight_type</th>\n      <th>alpha</th>\n      <th>use_layer_norm</th>\n      <th>use_aug</th>\n      <th>lr</th>\n      <th>batch_size</th>\n      <th>train_full_score</th>\n      <th>train_partial_score</th>\n      <th>val_full_score</th>\n      <th>val_partial_score</th>\n    </tr>\n  </thead>\n  <tbody>\n    <tr>\n      <th>0</th>\n      <td>Accent</td>\n      <td>1</td>\n      <td>l1</td>\n      <td>None</td>\n      <td>0.0</td>\n      <td>True</td>\n      <td>True</td>\n      <td>0.001</td>\n      <td>32</td>\n      <td>0.760806</td>\n      <td>0.726 +- 0.025</td>\n      <td>0.792453</td>\n      <td>0.756 +- 0.026</td>\n    </tr>\n    <tr>\n      <th>1</th>\n      <td>Accent</td>\n      <td>2</td>\n      <td>l1</td>\n      <td>None</td>\n      <td>0.0</td>\n      <td>True</td>\n      <td>True</td>\n      <td>0.001</td>\n      <td>64</td>\n      <td>0.783883</td>\n      <td>0.74 +- 0.031</td>\n      <td>0.735849</td>\n      <td>0.725 +- 0.038</td>\n    </tr>\n    <tr>\n      <th>2</th>\n      <td>Accent</td>\n      <td>3</td>\n      <td>l1</td>\n      <td>None</td>\n      <td>0.0</td>\n      <td>True</td>\n      <td>True</td>\n      <td>0.010</td>\n      <td>32</td>\n      <td>0.817582</td>\n      <td>0.763 +- 0.03</td>\n      <td>0.792453</td>\n      <td>0.756 +- 0.043</td>\n    </tr>\n    <tr>\n      <th>3</th>\n      <td>Accent</td>\n      <td>4</td>\n      <td>l1</td>\n      <td>None</td>\n      <td>0.0</td>\n      <td>True</td>\n      <td>True</td>\n      <td>0.010</td>\n      <td>64</td>\n      <td>0.839194</td>\n      <td>0.783 +- 0.026</td>\n      <td>0.886792</td>\n      <td>0.818 +- 0.051</td>\n    </tr>\n    <tr>\n      <th>4</th>\n      <td>Accent</td>\n      <td>5</td>\n      <td>l1</td>\n      <td>None</td>\n      <td>0.0</td>\n      <td>True</td>\n      <td>True</td>\n      <td>0.100</td>\n      <td>32</td>\n      <td>0.717216</td>\n      <td>0.681 +- 0.02</td>\n      <td>0.773585</td>\n      <td>0.753 +- 0.018</td>\n    </tr>\n  </tbody>\n</table>\n</div>"
     },
     "execution_count": 85,
     "metadata": {},
     "output_type": "execute_result"
    }
   ],
   "source": [
    "df = pd.read_csv(os.path.join(grid_res_dir, list(dataset_grid_res.values())[0]))\n",
    "df.head()"
   ],
   "metadata": {
    "collapsed": false,
    "ExecuteTime": {
     "end_time": "2023-07-09T11:20:56.252243862Z",
     "start_time": "2023-07-09T11:20:56.220519899Z"
    }
   }
  },
  {
   "cell_type": "code",
   "execution_count": 115,
   "outputs": [],
   "source": [
    "for dataset, grid_res in dataset_grid_res.items():\n",
    "    df = pd.read_csv(os.path.join('grid_search_results', grid_res))\n",
    "    df[\"train_partial_scores_mean\"] = df[\"train_partial_score\"].apply(lambda x: float(x.split(\" +- \")[0]))\n",
    "    df[\"val_partial_scores_mean\"] = df[\"val_partial_score\"].apply(lambda x: float(x.split(\" +- \")[0]))\n",
    "\n",
    "    # df[\"full_score\"] = df[[\"train_full_score\", \"val_full_score\"]].min(axis=1)\n",
    "    # df[\"partial_scores_mean\"] = df[[\"train_partial_scores_mean\", \"val_partial_scores_mean\"]].min(axis=1)\n",
    "\n",
    "    df[\"train_diff_full_partial\"] = df[\"train_full_score\"] - df[\"train_partial_scores_mean\"]\n",
    "    df[\"val_diff_full_partial\"] = df[\"val_full_score\"] - df[\"val_partial_scores_mean\"]\n",
    "\n",
    "    df[\"diff_full_partial_min\"] = df[[\"train_diff_full_partial\", \"val_diff_full_partial\"]].min(axis=1)\n",
    "    df[\"partial_scores_mean_min\"] = df[[\"train_partial_scores_mean\", \"val_partial_scores_mean\"]].min(axis=1)\n",
    "\n",
    "    df.sort_values(by=\"diff_full_partial_min\", ascending=True, inplace=True, kind='stable')\n",
    "    df.sort_values(by=\"partial_scores_mean_min\", ascending=False, inplace=True, kind='stable')\n",
    "\n",
    "    # df.sort_values(by=\"val_diff_full_partial\", ascending=True, inplace=True, kind='stable')\n",
    "    # df.sort_values(by=\"val_partial_scores_mean\", ascending=False, inplace=True, kind='stable')\n",
    "    df.to_csv(os.path.join(\"param_files\", f\"{dataset}_params.csv\"), index=False)\n",
    "\n",
    "    # create params dict of reg_type\tweight_type\talpha\tuse_layer_norm\tuse_aug\tlr\tbatch_size\n",
    "\n",
    "    n_best_samples = 10\n",
    "\n",
    "    params = {\n",
    "        \"reg_type\": str(df.iloc[:n_best_samples][\"reg_type\"].mode().tolist()[0]),\n",
    "        \"weight_type\": str(df.iloc[:n_best_samples][\"weight_type\"].mode().tolist()[0]),\n",
    "        \"alpha\": float(df.iloc[:n_best_samples][\"alpha\"].mode().tolist()[0]),\n",
    "        \"use_layer_norm\": df.iloc[:n_best_samples][\"use_layer_norm\"].mode().tolist()[0],\n",
    "        # \"use_aug\": bool(df.iloc[0][\"use_aug\"]),\n",
    "        \"use_aug\": df.iloc[:n_best_samples][\"use_aug\"].mode().tolist()[0],\n",
    "        \"lr\": float(df.iloc[:n_best_samples][\"lr\"].mode().tolist()[0]),\n",
    "        \"batch_size\": int(df.iloc[:n_best_samples][\"batch_size\"].mode().tolist()[0]),\n",
    "    }\n",
    "\n",
    "    with open(os.path.join(\"param_files\", f\"{dataset}_params.json\"), 'w') as f:\n",
    "        json.dump(params, f)\n"
   ],
   "metadata": {
    "collapsed": false,
    "ExecuteTime": {
     "end_time": "2023-07-09T11:37:35.715600795Z",
     "start_time": "2023-07-09T11:37:35.464532377Z"
    }
   }
  },
  {
   "cell_type": "code",
   "execution_count": 116,
   "outputs": [
    {
     "data": {
      "text/plain": "False"
     },
     "execution_count": 116,
     "metadata": {},
     "output_type": "execute_result"
    }
   ],
   "source": [
    "df.iloc[:5][\"use_layer_norm\"].mode().tolist()[0]"
   ],
   "metadata": {
    "collapsed": false,
    "ExecuteTime": {
     "end_time": "2023-07-09T11:37:35.716015585Z",
     "start_time": "2023-07-09T11:37:35.714848927Z"
    }
   }
  },
  {
   "cell_type": "code",
   "execution_count": 117,
   "outputs": [],
   "source": [
    "if os.path.isfile(\"removal_test_commands\"):\n",
    "    os.remove(\"removal_test_commands\")\n",
    "\n",
    "for i, dataset in enumerate(os.listdir(\"param_files\")):\n",
    "    if dataset.endswith(\".json\"):\n",
    "        f = open(\"removal_test_commands\", 'w' if i == 0 else 'a')\n",
    "        dataset = dataset.split(\"_\")[0]\n",
    "        f.write(f\"python main_experimens.py --dataset {dataset.capitalize()} --run_grid False --run_ts False --full_test True\\n\")"
   ],
   "metadata": {
    "collapsed": false,
    "ExecuteTime": {
     "end_time": "2023-07-09T11:37:36.204335895Z",
     "start_time": "2023-07-09T11:37:36.198071303Z"
    }
   }
  },
  {
   "cell_type": "code",
   "execution_count": 118,
   "outputs": [
    {
     "data": {
      "text/plain": "          reg_type weight_type  alpha  use_layer_norm  use_aug     lr  \\\necoli           l2        None    1.0           False     True  0.010   \nbreast          l1        None    0.0           False    False  0.010   \nbanknote        l2        loss    0.5           False    False  0.100   \niris            l2        mult    1.0            True    False  0.100   \nparkinson      var         avg    1.0           False     True  0.001   \naccent         var         avg    0.5           False     True  0.010   \n\n           batch_size  \necoli              32  \nbreast             32  \nbanknote           64  \niris               32  \nparkinson          64  \naccent             64  ",
      "text/html": "<div>\n<style scoped>\n    .dataframe tbody tr th:only-of-type {\n        vertical-align: middle;\n    }\n\n    .dataframe tbody tr th {\n        vertical-align: top;\n    }\n\n    .dataframe thead th {\n        text-align: right;\n    }\n</style>\n<table border=\"1\" class=\"dataframe\">\n  <thead>\n    <tr style=\"text-align: right;\">\n      <th></th>\n      <th>reg_type</th>\n      <th>weight_type</th>\n      <th>alpha</th>\n      <th>use_layer_norm</th>\n      <th>use_aug</th>\n      <th>lr</th>\n      <th>batch_size</th>\n    </tr>\n  </thead>\n  <tbody>\n    <tr>\n      <th>ecoli</th>\n      <td>l2</td>\n      <td>None</td>\n      <td>1.0</td>\n      <td>False</td>\n      <td>True</td>\n      <td>0.010</td>\n      <td>32</td>\n    </tr>\n    <tr>\n      <th>breast</th>\n      <td>l1</td>\n      <td>None</td>\n      <td>0.0</td>\n      <td>False</td>\n      <td>False</td>\n      <td>0.010</td>\n      <td>32</td>\n    </tr>\n    <tr>\n      <th>banknote</th>\n      <td>l2</td>\n      <td>loss</td>\n      <td>0.5</td>\n      <td>False</td>\n      <td>False</td>\n      <td>0.100</td>\n      <td>64</td>\n    </tr>\n    <tr>\n      <th>iris</th>\n      <td>l2</td>\n      <td>mult</td>\n      <td>1.0</td>\n      <td>True</td>\n      <td>False</td>\n      <td>0.100</td>\n      <td>32</td>\n    </tr>\n    <tr>\n      <th>parkinson</th>\n      <td>var</td>\n      <td>avg</td>\n      <td>1.0</td>\n      <td>False</td>\n      <td>True</td>\n      <td>0.001</td>\n      <td>64</td>\n    </tr>\n    <tr>\n      <th>accent</th>\n      <td>var</td>\n      <td>avg</td>\n      <td>0.5</td>\n      <td>False</td>\n      <td>True</td>\n      <td>0.010</td>\n      <td>64</td>\n    </tr>\n  </tbody>\n</table>\n</div>"
     },
     "execution_count": 118,
     "metadata": {},
     "output_type": "execute_result"
    }
   ],
   "source": [
    "# load all params files to one df\n",
    "\n",
    "df = pd.DataFrame()\n",
    "\n",
    "for dataset in os.listdir(\"param_files\"):\n",
    "    if dataset.endswith(\".json\"):\n",
    "        dataset = dataset.split(\"_\")[0]\n",
    "\n",
    "        if dataset.lower() in ['wifi', 'wine']:\n",
    "            continue\n",
    "\n",
    "        with open(os.path.join(\"param_files\", dataset + \"_params.json\"), 'r') as f:\n",
    "            params = json.load(f)\n",
    "        df = df.append(pd.DataFrame(params, index=[dataset]))\n",
    "\n",
    "df"
   ],
   "metadata": {
    "collapsed": false,
    "ExecuteTime": {
     "end_time": "2023-07-09T11:37:36.446337658Z",
     "start_time": "2023-07-09T11:37:36.422380217Z"
    }
   }
  },
  {
   "cell_type": "code",
   "execution_count": 37,
   "outputs": [],
   "source": [],
   "metadata": {
    "collapsed": false,
    "ExecuteTime": {
     "end_time": "2023-07-06T11:47:10.466381495Z",
     "start_time": "2023-07-06T11:47:10.444979680Z"
    }
   }
  },
  {
   "cell_type": "code",
   "execution_count": null,
   "outputs": [],
   "source": [],
   "metadata": {
    "collapsed": false
   }
  }
 ],
 "metadata": {
  "kernelspec": {
   "display_name": "Python 3",
   "language": "python",
   "name": "python3"
  },
  "language_info": {
   "codemirror_mode": {
    "name": "ipython",
    "version": 2
   },
   "file_extension": ".py",
   "mimetype": "text/x-python",
   "name": "python",
   "nbconvert_exporter": "python",
   "pygments_lexer": "ipython2",
   "version": "2.7.6"
  }
 },
 "nbformat": 4,
 "nbformat_minor": 0
}
